{
 "cells": [
  {
   "cell_type": "code",
   "execution_count": 10,
   "metadata": {
    "collapsed": false
   },
   "outputs": [],
   "source": [
    "from dolfin import *\n",
    "%matplotlib inline"
   ]
  },
  {
   "cell_type": "markdown",
   "metadata": {},
   "source": [
    "# Set up the boundary conditions and the operator\n",
    "\n",
    "Consider a unit square with the following:\n",
    "$$\n",
    "L u = f\n",
    "$$\n",
    "where\n",
    "$$\n",
    "L = \\begin{bmatrix}I & -\\nabla\\\\ -\\nabla \\cdot & 0\\\\ \\nabla\\times & 0\\end{bmatrix}\n",
    "$$"
   ]
  },
  {
   "cell_type": "code",
   "execution_count": 11,
   "metadata": {
    "collapsed": true
   },
   "outputs": [],
   "source": [
    "def boundaryAll(x):\n",
    "    p1 = (abs(x[0]) < DOLFIN_EPS)\n",
    "    p2 = (abs(x[0]-1.0) < DOLFIN_EPS)\n",
    "    p3 = (abs(x[1]) < DOLFIN_EPS)\n",
    "    p4 = (abs(x[1]-1.0) < DOLFIN_EPS)\n",
    "    return p1 or p2 or p3 or p4\n",
    "\n",
    "\n",
    "def boundaryNorthSouth(x):\n",
    "    p3 = (abs(x[1]) < DOLFIN_EPS)\n",
    "    p4 = (abs(x[1]-1.0) < DOLFIN_EPS)\n",
    "    return p3 or p4\n",
    "\n",
    "\n",
    "def boundaryWestEast(x):\n",
    "    p1 = (abs(x[0]) < DOLFIN_EPS)\n",
    "    p2 = (abs(x[0]-1.0) < DOLFIN_EPS)\n",
    "    return p1 or p2\n",
    "\n",
    "\n",
    "def LSop(q, u):\n",
    "    a1 = q - grad(u)\n",
    "    a2 = -div(q)\n",
    "    a3 = curl(q)\n",
    "    return [a1, a2, a3]"
   ]
  },
  {
   "cell_type": "markdown",
   "metadata": {},
   "source": [
    "# Pick the mesh and the space"
   ]
  },
  {
   "cell_type": "code",
   "execution_count": 18,
   "metadata": {
    "collapsed": false
   },
   "outputs": [
    {
     "name": "stdout",
     "output_type": "stream",
     "text": [
      "Calling FFC just-in-time (JIT) compiler, this may take some time.\n",
      "Calling FFC just-in-time (JIT) compiler, this may take some time.\n"
     ]
    }
   ],
   "source": [
    "mesh = UnitSquareMesh(30, 30)\n",
    "\n",
    "pV = 2\n",
    "Vv = VectorElement('CG', mesh.ufl_cell(), pV)\n",
    "Vs = FiniteElement('CG', mesh.ufl_cell(), pV)\n",
    "V = FunctionSpace(mesh, Vv * Vs)\n",
    "(q, u) = TrialFunctions(V)\n",
    "(psi, phi) = TestFunctions(V)"
   ]
  },
  {
   "cell_type": "markdown",
   "metadata": {},
   "source": [
    "# Set the weak form and boundary conditions"
   ]
  },
  {
   "cell_type": "code",
   "execution_count": 19,
   "metadata": {
    "collapsed": true
   },
   "outputs": [],
   "source": [
    "g = Constant(0)\n",
    "\n",
    "# f = [0,1,0]\n",
    "Lu = LSop(q, u)\n",
    "Lv = LSop(psi, phi)\n",
    "a = dot(Lu[0], Lv[0])*dx + Lu[1]*Lv[1]*dx + dot(Lu[2], Lv[2])*dx\n",
    "L = Lv[1]*dx\n",
    "\n",
    "# boundary conditions:\n",
    "# n x q = 0\n",
    "# u = 0\n",
    "bc_qx = DirichletBC(V.sub(0).sub(0), g, boundaryNorthSouth)\n",
    "bc_qy = DirichletBC(V.sub(0).sub(1), g, boundaryWestEast)\n",
    "bc_u = DirichletBC(V.sub(1),        g, boundaryAll)\n",
    "bc = [bc_qx, bc_qy, bc_u]"
   ]
  },
  {
   "cell_type": "markdown",
   "metadata": {},
   "source": [
    "# Assemble and solve"
   ]
  },
  {
   "cell_type": "code",
   "execution_count": 20,
   "metadata": {
    "collapsed": false
   },
   "outputs": [
    {
     "name": "stdout",
     "output_type": "stream",
     "text": [
      "Calling FFC just-in-time (JIT) compiler, this may take some time.\n",
      "Calling FFC just-in-time (JIT) compiler, this may take some time.\n"
     ]
    }
   ],
   "source": [
    "A = assemble(a)\n",
    "rhs = assemble(L)\n",
    "for condition in bc:\n",
    "    condition.apply(A, rhs)\n",
    "\n",
    "QU = Function(V)\n",
    "solve(A, QU.vector(), rhs)\n",
    "\n",
    "(Q, U) = QU.split()"
   ]
  },
  {
   "cell_type": "code",
   "execution_count": 22,
   "metadata": {
    "collapsed": false
   },
   "outputs": [
    {
     "data": {
      "text/plain": [
       "<matplotlib.tri.tricontour.TriContourSet at 0x7f9b2fcc0810>"
      ]
     },
     "execution_count": 22,
     "metadata": {},
     "output_type": "execute_result"
    },
    {
     "data": {
      "image/png": "[encoded data removed]",
      "text/plain": [
       "<matplotlib.figure.Figure at 0x7f9b365c1790>"
      ]
     },
     "metadata": {},
     "output_type": "display_data"
    }
   ],
   "source": [
    "plot(U, interactive=True)"
   ]
  },
  {
   "cell_type": "code",
   "execution_count": null,
   "metadata": {
    "collapsed": true
   },
   "outputs": [],
   "source": []
  },
  {
   "cell_type": "code",
   "execution_count": null,
   "metadata": {
    "collapsed": true
   },
   "outputs": [],
   "source": []
  }
 ],
 "metadata": {
  "kernelspec": {
   "display_name": "Python 2",
   "language": "python",
   "name": "python2"
  },
  "language_info": {
   "codemirror_mode": {
    "name": "ipython",
    "version": 2
   },
   "file_extension": ".py",
   "mimetype": "text/x-python",
   "name": "python",
   "nbconvert_exporter": "python",
   "pygments_lexer": "ipython2",
   "version": "2.7.12"
  }
 },
 "nbformat": 4,
 "nbformat_minor": 2
}
